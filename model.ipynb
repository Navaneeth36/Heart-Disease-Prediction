{
 "cells": [
  {
   "cell_type": "code",
   "execution_count": 1,
   "id": "94ef87b0",
   "metadata": {},
   "outputs": [],
   "source": [
    "import os\n",
    "import numpy as np\n",
    "import pandas as pd\n",
    "import warnings\n",
    "import joblib\n",
    "import matplotlib.pyplot as plt\n",
    "from tabulate import tabulate\n",
    "from sklearn.model_selection import train_test_split, RandomizedSearchCV, StratifiedKFold\n",
    "from sklearn.compose import ColumnTransformer\n",
    "from sklearn.preprocessing import OneHotEncoder, StandardScaler\n",
    "from sklearn.linear_model import LogisticRegression\n",
    "from sklearn.neighbors import KNeighborsClassifier\n",
    "from sklearn.ensemble import RandomForestClassifier\n",
    "from sklearn.metrics import accuracy_score, precision_score, recall_score, f1_score, confusion_matrix, roc_curve, roc_auc_score\n",
    "from scipy.stats import loguniform, randint\n"
   ]
  },
  {
   "cell_type": "code",
   "execution_count": 2,
   "id": "37b3cd66",
   "metadata": {},
   "outputs": [
    {
     "name": "stdout",
     "output_type": "stream",
     "text": [
      "Shape (rows, cols): (918, 12)\n"
     ]
    }
   ],
   "source": [
    "# Load the dataset\n",
    "heartImputedDataset = pd.read_csv(\"heart_imputed.csv\") \n",
    "print(\"Shape (rows, cols):\", heartImputedDataset.shape)"
   ]
  },
  {
   "cell_type": "code",
   "execution_count": 3,
   "id": "0db9f771",
   "metadata": {},
   "outputs": [
    {
     "name": "stdout",
     "output_type": "stream",
     "text": [
      "Categorical feature names: ['ChestPainType', 'ExerciseAngina', 'FastingBS', 'RestingECG', 'ST_Slope', 'Sex']\n",
      "Numeric feature names    : ['Age', 'RestingBP', 'Cholesterol', 'MaxHR', 'Oldpeak']\n",
      "Train: (734, 11)  Test: (184, 11)\n"
     ]
    }
   ],
   "source": [
    "targetColumn = \"HeartDisease\"\n",
    "\n",
    "# Features / target\n",
    "XFeatures = heartImputedDataset.drop(columns=[targetColumn])\n",
    "yTarget   = heartImputedDataset[targetColumn]\n",
    "\n",
    "# Identify categorical & numeric columns\n",
    "categoricalFeatureNames = XFeatures.select_dtypes(include=[\"object\", \"category\", \"bool\"]).columns.tolist()\n",
    "\n",
    "# Treat numeric 0/1 columns as categorical\n",
    "binaryNumericFeatureNames = [\n",
    "    name for name in XFeatures.select_dtypes(include=[\"number\"]).columns\n",
    "    if set(pd.unique(XFeatures[name].dropna())) <= {0, 1}\n",
    "]\n",
    "\n",
    "categoricalFeatureNames = sorted(list(set(categoricalFeatureNames + binaryNumericFeatureNames)))\n",
    "numericFeatureNames = [name for name in XFeatures.columns if name not in categoricalFeatureNames]\n",
    "\n",
    "print(\"Categorical feature names:\", categoricalFeatureNames)\n",
    "print(\"Numeric feature names    :\", numericFeatureNames)\n",
    "\n",
    "# Train/test split (80/20), stratified\n",
    "XTrain, XTest, yTrain, yTest = train_test_split(\n",
    "    XFeatures, yTarget, test_size=0.20, random_state=42, stratify=yTarget\n",
    ")\n",
    "print(\"Train:\", XTrain.shape, \" Test:\", XTest.shape)"
   ]
  },
  {
   "cell_type": "code",
   "execution_count": 4,
   "id": "9737422b",
   "metadata": {},
   "outputs": [
    {
     "name": "stdout",
     "output_type": "stream",
     "text": [
      "\n",
      "Target distribution — Full vs Train vs Test\n",
      "┌────────────────┬────────┬─────────┬────────┐\n",
      "│   HeartDisease │   Full │   Train │   Test │\n",
      "├────────────────┼────────┼─────────┼────────┤\n",
      "│              0 │    410 │     328 │     82 │\n",
      "│              1 │    508 │     406 │    102 │\n",
      "└────────────────┴────────┴─────────┴────────┘\n"
     ]
    }
   ],
   "source": [
    "# Target distribution table\n",
    "fullCounts  = heartImputedDataset[\"HeartDisease\"].value_counts().reindex([0, 1]).fillna(0).astype(int)\n",
    "trainCounts = yTrain.value_counts().reindex([0, 1]).fillna(0).astype(int)\n",
    "testCounts  = yTest.value_counts().reindex([0, 1]).fillna(0).astype(int)\n",
    "\n",
    "countsTable = pd.DataFrame({\n",
    "    \"Full\":  fullCounts,\n",
    "    \"Train\": trainCounts,\n",
    "    \"Test\":  testCounts\n",
    "})\n",
    "countsTable.index.name = \"HeartDisease\"\n",
    "\n",
    "print(\"\\nTarget distribution — Full vs Train vs Test\")\n",
    "print(tabulate(countsTable.reset_index().values.tolist(),\n",
    "               headers=[\"HeartDisease\", \"Full\", \"Train\", \"Test\"],\n",
    "               tablefmt=\"simple_outline\"))\n"
   ]
  },
  {
   "cell_type": "code",
   "execution_count": 5,
   "id": "d1a8851d",
   "metadata": {},
   "outputs": [
    {
     "name": "stdout",
     "output_type": "stream",
     "text": [
      "Processed shapes → XTrainProc: (734, 15) | XTestProc: (184, 15)\n"
     ]
    }
   ],
   "source": [
    "# Preprocess: One-Hot Encode categoricals + Scale numericals\n",
    "\n",
    "preprocessor = ColumnTransformer(\n",
    "    transformers=[\n",
    "        (\"cat\", OneHotEncoder(drop=\"first\", handle_unknown=\"ignore\", sparse_output=False), categoricalFeatureNames),\n",
    "        (\"num\", StandardScaler(), numericFeatureNames),\n",
    "    ],\n",
    "    remainder=\"drop\"\n",
    ")\n",
    "\n",
    "# Fit on train, then transform train & test\n",
    "XTrainProc = preprocessor.fit_transform(XTrain)\n",
    "XTestProc  = preprocessor.transform(XTest)\n",
    "\n",
    "# Feature names and DataFrame wrappers\n",
    "featureNames = preprocessor.get_feature_names_out().tolist()\n",
    "XTrainProc = pd.DataFrame(XTrainProc, columns=featureNames, index=XTrain.index)\n",
    "XTestProc  = pd.DataFrame(XTestProc,  columns=featureNames, index=XTest.index)\n",
    "\n",
    "print(\"Processed shapes →\",\n",
    "      \"XTrainProc:\", XTrainProc.shape,\n",
    "      \"| XTestProc:\", XTestProc.shape)\n"
   ]
  },
  {
   "cell_type": "code",
   "execution_count": 6,
   "id": "56ec5a0e",
   "metadata": {},
   "outputs": [
    {
     "name": "stdout",
     "output_type": "stream",
     "text": [
      "Models trained: LogisticRegression (LR), KNN, RandomForest (RF)\n"
     ]
    }
   ],
   "source": [
    "# Train baseline models\n",
    "modelLR  = LogisticRegression(max_iter=1000, solver=\"liblinear\", C=1)\n",
    "modelKNN = KNeighborsClassifier(n_neighbors=5, weights=\"distance\")\n",
    "modelRF  = RandomForestClassifier(n_estimators=300, random_state=42, n_jobs=-1)\n",
    "\n",
    "# Fit on preprocessed training data\n",
    "modelLR.fit(XTrainProc, yTrain)\n",
    "modelKNN.fit(XTrainProc, yTrain)\n",
    "modelRF.fit(XTrainProc, yTrain)\n",
    "\n",
    "print(\"Models trained: LogisticRegression (LR), KNN, RandomForest (RF)\")"
   ]
  },
  {
   "cell_type": "code",
   "execution_count": 7,
   "id": "1cdc0a90",
   "metadata": {},
   "outputs": [],
   "source": [
    "def predictLabelsSafely(classifier, features):\n",
    "    with warnings.catch_warnings():\n",
    "        warnings.simplefilter(\"ignore\")\n",
    "        return classifier.predict(features)\n",
    "\n",
    "def predictClass1ProbabilitiesSafely(classifier, features):\n",
    "    with warnings.catch_warnings():\n",
    "        warnings.simplefilter(\"ignore\")\n",
    "        if hasattr(classifier, \"predict_proba\"):\n",
    "            probabilities = classifier.predict_proba(features)[:, 1]\n",
    "        else:\n",
    "            decisionScores = classifier.decision_function(features)\n",
    "            probabilities = (decisionScores - decisionScores.min()) / (decisionScores.max() - decisionScores.min() + 1e-9)\n",
    "\n",
    "    probabilities = np.nan_to_num(probabilities, nan=0.5, posinf=1.0, neginf=0.0)\n",
    "    probabilities = np.clip(probabilities, 1e-8, 1 - 1e-8)\n",
    "    return probabilities\n",
    "\n",
    "def warningsSuppressed(searchCv, X, y):\n",
    "    with warnings.catch_warnings():\n",
    "        warnings.simplefilter(\"ignore\")\n",
    "        return searchCv.fit(X, y)\n"
   ]
  },
  {
   "cell_type": "code",
   "execution_count": 8,
   "id": "6b8f26f8",
   "metadata": {},
   "outputs": [
    {
     "name": "stdout",
     "output_type": "stream",
     "text": [
      "┌─────────┬────────────┬─────────────┬──────────┬───────┬───────────┐\n",
      "│ Model   │   Accuracy │   Precision │   Recall │    F1 │   ROC-AUC │\n",
      "├─────────┼────────────┼─────────────┼──────────┼───────┼───────────┤\n",
      "│ LogReg  │      0.891 │       0.887 │    0.922 │ 0.904 │     0.931 │\n",
      "│ KNN     │      0.853 │       0.879 │    0.853 │ 0.866 │     0.93  │\n",
      "│ RF      │      0.859 │       0.88  │    0.863 │ 0.871 │     0.929 │\n",
      "└─────────┴────────────┴─────────────┴──────────┴───────┴───────────┘\n"
     ]
    }
   ],
   "source": [
    "# Evaluate models on the test set\n",
    "def evaluateModel(classifier, XTestProcessed, yTestTrue, modelName):\n",
    "    yPredicted = predictLabelsSafely(classifier, XTestProcessed)\n",
    "    yProbability = predictClass1ProbabilitiesSafely(classifier, XTestProcessed)\n",
    "\n",
    "    return {\n",
    "        \"Model\": modelName,\n",
    "        \"Accuracy\": round(accuracy_score(yTestTrue, yPredicted), 3),\n",
    "        \"Precision\": round(precision_score(yTestTrue, yPredicted), 3),\n",
    "        \"Recall\": round(recall_score(yTestTrue, yPredicted), 3),\n",
    "        \"F1\": round(f1_score(yTestTrue, yPredicted), 3),\n",
    "        \"ROC-AUC\": round(roc_auc_score(yTestTrue, yProbability), 3),\n",
    "    }\n",
    "\n",
    "evaluationRows = []\n",
    "for classifier, modelName in [(modelLR, \"LogReg\"), (modelKNN, \"KNN\"), (modelRF, \"RF\")]:\n",
    "    evaluationRows.append(evaluateModel(classifier, XTestProc, yTest, modelName))\n",
    "\n",
    "metricsTable = pd.DataFrame(evaluationRows)\n",
    "print(tabulate(metricsTable.values.tolist(),\n",
    "               headers=metricsTable.columns.tolist(),\n",
    "               tablefmt=\"simple_outline\"))\n"
   ]
  },
  {
   "cell_type": "code",
   "execution_count": 9,
   "id": "64d31a7b",
   "metadata": {},
   "outputs": [
    {
     "name": "stdout",
     "output_type": "stream",
     "text": [
      "\n",
      "Confusion Matrix — LogReg\n",
      "┌────────┬──────────┬──────────┐\n",
      "│        │   Pred 0 │   Pred 1 │\n",
      "├────────┼──────────┼──────────┤\n",
      "│ True 0 │       70 │       12 │\n",
      "│ True 1 │        8 │       94 │\n",
      "└────────┴──────────┴──────────┘\n",
      "\n",
      "Confusion Matrix — KNN\n",
      "┌────────┬──────────┬──────────┐\n",
      "│        │   Pred 0 │   Pred 1 │\n",
      "├────────┼──────────┼──────────┤\n",
      "│ True 0 │       70 │       12 │\n",
      "│ True 1 │       15 │       87 │\n",
      "└────────┴──────────┴──────────┘\n",
      "\n",
      "Confusion Matrix — RF\n",
      "┌────────┬──────────┬──────────┐\n",
      "│        │   Pred 0 │   Pred 1 │\n",
      "├────────┼──────────┼──────────┤\n",
      "│ True 0 │       70 │       12 │\n",
      "│ True 1 │       14 │       88 │\n",
      "└────────┴──────────┴──────────┘\n"
     ]
    },
    {
     "data": {
      "image/png": "[encoded data removed]",
      "text/plain": [
       "<Figure size 700x500 with 1 Axes>"
      ]
     },
     "metadata": {},
     "output_type": "display_data"
    }
   ],
   "source": [
    "#  Confusion matrices and AUC  ROC curves\n",
    "\n",
    "for classifier, modelName in [(modelLR, \"LogReg\"), (modelKNN, \"KNN\"), (modelRF, \"RF\")]:\n",
    "    with warnings.catch_warnings():\n",
    "        warnings.simplefilter(\"ignore\")\n",
    "        yPredicted = classifier.predict(XTestProc)\n",
    "    confusion = confusion_matrix(yTest, yPredicted)\n",
    "    confusionTable = [\n",
    "        [\"True 0\", confusion[0, 0], confusion[0, 1]],\n",
    "        [\"True 1\", confusion[1, 0], confusion[1, 1]],\n",
    "    ]\n",
    "    print(f\"\\nConfusion Matrix — {modelName}\")\n",
    "    print(tabulate(confusionTable, headers=[\"\", \"Pred 0\", \"Pred 1\"], tablefmt=\"simple_outline\"))\n",
    "\n",
    "# ROC curves \n",
    "plt.figure(figsize=(7, 5))\n",
    "for classifier, modelName in [(modelLR, \"LogReg\"), (modelKNN, \"KNN\"), (modelRF, \"RF\")]:\n",
    "    yProbabilities = predictClass1ProbabilitiesSafely(classifier, XTestProc)\n",
    "    falsePositiveRate, truePositiveRate, _ = roc_curve(yTest, yProbabilities)\n",
    "    aucValue = roc_auc_score(yTest, yProbabilities)\n",
    "    plt.plot(falsePositiveRate, truePositiveRate, label=f\"{modelName} (AUC={aucValue:.3f})\")\n",
    "\n",
    "plt.plot([0, 1], [0, 1], linestyle=\"--\", linewidth=1)\n",
    "plt.title(\"ROC Curves — Models\")\n",
    "plt.xlabel(\"False Positive Rate\")\n",
    "plt.ylabel(\"True Positive Rate\")\n",
    "plt.legend()\n",
    "plt.tight_layout()\n",
    "plt.show()\n"
   ]
  },
  {
   "cell_type": "code",
   "execution_count": 10,
   "id": "6988d4e5",
   "metadata": {},
   "outputs": [
    {
     "name": "stdout",
     "output_type": "stream",
     "text": [
      "\n",
      "Best CV AUCs & Params (RandomizedSearchCV)\n",
      "┌─────────┬───────────────┬───────────────────────────────────────────────────────────────────────────────────────────────────────────────┐\n",
      "│ Model   │   Best CV AUC │ Best Params                                                                                                   │\n",
      "├─────────┼───────────────┼───────────────────────────────────────────────────────────────────────────────────────────────────────────────┤\n",
      "│ LogReg  │         0.923 │ {'C': np.float64(0.9846738873614566), 'penalty': 'l1'}                                                        │\n",
      "│ KNN     │         0.922 │ {'n_neighbors': 36, 'p': 1, 'weights': 'distance'}                                                            │\n",
      "│ RF      │         0.929 │ {'max_depth': 15, 'max_features': 'sqrt', 'min_samples_leaf': 3, 'min_samples_split': 8, 'n_estimators': 655} │\n",
      "└─────────┴───────────────┴───────────────────────────────────────────────────────────────────────────────────────────────────────────────┘\n"
     ]
    }
   ],
   "source": [
    "# Hyperparameter tuning using RandomizedSearchCV\n",
    "crossValidator = StratifiedKFold(n_splits=5, shuffle=True, random_state=42)\n",
    "scoringMetric = \"roc_auc\"\n",
    "\n",
    "# Logistic Regression search space\n",
    "logRegSearch = RandomizedSearchCV(\n",
    "    estimator=LogisticRegression(max_iter=2000, solver=\"liblinear\"),\n",
    "    param_distributions={\"C\": loguniform(1e-3, 1e2), \"penalty\": [\"l1\", \"l2\"]},\n",
    "    n_iter=40, cv=crossValidator, scoring=scoringMetric,\n",
    "    n_jobs=-1, random_state=42, refit=True, verbose=0\n",
    ")\n",
    "warningsSuppressed(logRegSearch, XTrainProc, yTrain)\n",
    "\n",
    "# KNN search space\n",
    "knnSearch = RandomizedSearchCV(\n",
    "    estimator=KNeighborsClassifier(),\n",
    "    param_distributions={\"n_neighbors\": randint(3, 51), \"weights\": [\"uniform\", \"distance\"], \"p\": [1, 2]},\n",
    "    n_iter=50, cv=crossValidator, scoring=scoringMetric,\n",
    "    n_jobs=-1, random_state=42, refit=True, verbose=0\n",
    ")\n",
    "warningsSuppressed(knnSearch, XTrainProc, yTrain)\n",
    "\n",
    "# Random Forest search space\n",
    "randomForestSearch = RandomizedSearchCV(\n",
    "    estimator=RandomForestClassifier(random_state=42, n_jobs=-1),\n",
    "    param_distributions={\n",
    "        \"n_estimators\": randint(200, 800),\n",
    "        \"max_depth\": [None] + list(range(4, 21)),\n",
    "        \"min_samples_split\": randint(2, 10),\n",
    "        \"min_samples_leaf\": randint(1, 8),\n",
    "        \"max_features\": [\"sqrt\", \"log2\", 0.5, 0.7],\n",
    "    },\n",
    "    n_iter=60, cv=crossValidator, scoring=scoringMetric,\n",
    "    n_jobs=-1, random_state=42, refit=True, verbose=0\n",
    ")\n",
    "warningsSuppressed(randomForestSearch, XTrainProc, yTrain)\n",
    "\n",
    "# Show best CV AUC and params\n",
    "bestRows = [\n",
    "    [\"LogReg\", round(logRegSearch.best_score_, 3), logRegSearch.best_params_],\n",
    "    [\"KNN\",    round(knnSearch.best_score_, 3),    knnSearch.best_params_],\n",
    "    [\"RF\",     round(randomForestSearch.best_score_, 3), randomForestSearch.best_params_],\n",
    "]\n",
    "print(\"\\nBest CV AUCs & Params (RandomizedSearchCV)\")\n",
    "print(tabulate(bestRows, headers=[\"Model\", \"Best CV AUC\", \"Best Params\"], tablefmt=\"simple_outline\"))\n"
   ]
  },
  {
   "cell_type": "code",
   "execution_count": 11,
   "id": "63754e1a",
   "metadata": {},
   "outputs": [
    {
     "name": "stdout",
     "output_type": "stream",
     "text": [
      "\n",
      "Tuned Models — Test Metrics\n",
      "┌────────────────┬────────────┬─────────────┬──────────┬───────┬───────────┐\n",
      "│ Model          │   Accuracy │   Precision │   Recall │    F1 │   ROC-AUC │\n",
      "├────────────────┼────────────┼─────────────┼──────────┼───────┼───────────┤\n",
      "│ LogReg (tuned) │      0.902 │       0.904 │    0.922 │ 0.913 │     0.933 │\n",
      "│ KNN (tuned)    │      0.864 │       0.889 │    0.863 │ 0.876 │     0.932 │\n",
      "│ RF (tuned)     │      0.853 │       0.864 │    0.873 │ 0.868 │     0.921 │\n",
      "└────────────────┴────────────┴─────────────┴──────────┴───────┴───────────┘\n"
     ]
    }
   ],
   "source": [
    "# Evaluate tuned models on the test set\n",
    "tunedResults = []\n",
    "tunedResults.append(evaluateModel(logRegSearch.best_estimator_,  XTestProc, yTest, \"LogReg (tuned)\"))\n",
    "tunedResults.append(evaluateModel(knnSearch.best_estimator_,     XTestProc, yTest, \"KNN (tuned)\"))\n",
    "tunedResults.append(evaluateModel(randomForestSearch.best_estimator_, XTestProc, yTest, \"RF (tuned)\"))\n",
    "\n",
    "tunedMetricsTable = pd.DataFrame(tunedResults)\n",
    "print(\"\\nTuned Models — Test Metrics\")\n",
    "print(tabulate(tunedMetricsTable.values.tolist(),\n",
    "               headers=tunedMetricsTable.columns.tolist(),\n",
    "               tablefmt=\"simple_outline\"))"
   ]
  },
  {
   "cell_type": "code",
   "execution_count": 12,
   "id": "4e1ff49f",
   "metadata": {},
   "outputs": [
    {
     "name": "stdout",
     "output_type": "stream",
     "text": [
      "\n",
      "Confusion Matrix — LogReg (tuned)\n",
      "┌────────┬──────────┬──────────┐\n",
      "│        │   Pred 0 │   Pred 1 │\n",
      "├────────┼──────────┼──────────┤\n",
      "│ True 0 │       72 │       10 │\n",
      "│ True 1 │        8 │       94 │\n",
      "└────────┴──────────┴──────────┘\n",
      "\n",
      "Confusion Matrix — KNN (tuned)\n",
      "┌────────┬──────────┬──────────┐\n",
      "│        │   Pred 0 │   Pred 1 │\n",
      "├────────┼──────────┼──────────┤\n",
      "│ True 0 │       71 │       11 │\n",
      "│ True 1 │       14 │       88 │\n",
      "└────────┴──────────┴──────────┘\n",
      "\n",
      "Confusion Matrix — RF (tuned)\n",
      "┌────────┬──────────┬──────────┐\n",
      "│        │   Pred 0 │   Pred 1 │\n",
      "├────────┼──────────┼──────────┤\n",
      "│ True 0 │       68 │       14 │\n",
      "│ True 1 │       13 │       89 │\n",
      "└────────┴──────────┴──────────┘\n"
     ]
    },
    {
     "data": {
      "image/png": "[encoded data removed]",
      "text/plain": [
       "<Figure size 700x500 with 1 Axes>"
      ]
     },
     "metadata": {},
     "output_type": "display_data"
    }
   ],
   "source": [
    "tunedModels = [\n",
    "    (logRegSearch.best_estimator_,        \"LogReg (tuned)\"),\n",
    "    (knnSearch.best_estimator_,           \"KNN (tuned)\"),\n",
    "    (randomForestSearch.best_estimator_,  \"RF (tuned)\"),\n",
    "]\n",
    "\n",
    "# Confusion matrices (pretty table)\n",
    "for classifier, modelName in tunedModels:\n",
    "    with warnings.catch_warnings():\n",
    "        warnings.simplefilter(\"ignore\")\n",
    "        yPredicted = classifier.predict(XTestProc)\n",
    "    confusion = confusion_matrix(yTest, yPredicted)\n",
    "    confusionTable = [\n",
    "        [\"True 0\", confusion[0, 0], confusion[0, 1]],\n",
    "        [\"True 1\", confusion[1, 0], confusion[1, 1]],\n",
    "    ]\n",
    "    print(f\"\\nConfusion Matrix — {modelName}\")\n",
    "    print(tabulate(confusionTable, headers=[\"\", \"Pred 0\", \"Pred 1\"], tablefmt=\"simple_outline\"))\n",
    "\n",
    "# ROC curves (with AUC in legend) — reuse predictClass1ProbabilitiesSafely from Block 5\n",
    "plt.figure(figsize=(7, 5))\n",
    "for classifier, modelName in tunedModels:\n",
    "    yProbabilities = predictClass1ProbabilitiesSafely(classifier, XTestProc)\n",
    "    fpr, tpr, _ = roc_curve(yTest, yProbabilities)\n",
    "    aucValue = roc_auc_score(yTest, yProbabilities)\n",
    "    plt.plot(fpr, tpr, label=f\"{modelName} (AUC={aucValue:.3f})\")\n",
    "\n",
    "plt.plot([0, 1], [0, 1], linestyle=\"--\", linewidth=1)\n",
    "plt.title(\"ROC Curves — Tuned Models\")\n",
    "plt.xlabel(\"False Positive Rate\")\n",
    "plt.ylabel(\"True Positive Rate\")\n",
    "plt.legend()\n",
    "plt.tight_layout()\n",
    "plt.show()"
   ]
  },
  {
   "cell_type": "code",
   "execution_count": 13,
   "id": "0567a053",
   "metadata": {},
   "outputs": [
    {
     "name": "stdout",
     "output_type": "stream",
     "text": [
      "Saved to: /Users/sivasai/Downloads/Projects/Navneeth/artifacts\n"
     ]
    }
   ],
   "source": [
    "# Save preprocessor, models, and metrics\n",
    "\n",
    "artifactsDirectory = \"artifacts\"\n",
    "os.makedirs(artifactsDirectory, exist_ok=True)\n",
    "\n",
    "# Save fitted preprocessor\n",
    "joblib.dump(preprocessor, os.path.join(artifactsDirectory, \"preprocessor.joblib\"))\n",
    "\n",
    "# Save tuned models\n",
    "joblib.dump(logRegSearch.best_estimator_, os.path.join(artifactsDirectory, \"model_lr_tuned.joblib\"))\n",
    "joblib.dump(knnSearch.best_estimator_, os.path.join(artifactsDirectory, \"model_knn_tuned.joblib\"))\n",
    "joblib.dump(randomForestSearch.best_estimator_, os.path.join(artifactsDirectory, \"model_rf_tuned.joblib\"))\n",
    "\n",
    "print(\"Saved to:\", os.path.abspath(artifactsDirectory))\n"
   ]
  }
 ],
 "metadata": {
  "kernelspec": {
   "display_name": "Heart-VENV",
   "language": "python",
   "name": "python3"
  },
  "language_info": {
   "codemirror_mode": {
    "name": "ipython",
    "version": 3
   },
   "file_extension": ".py",
   "mimetype": "text/x-python",
   "name": "python",
   "nbconvert_exporter": "python",
   "pygments_lexer": "ipython3",
   "version": "3.10.18"
  }
 },
 "nbformat": 4,
 "nbformat_minor": 5
}
